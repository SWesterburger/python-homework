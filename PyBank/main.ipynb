{
 "cells": [
  {
   "cell_type": "code",
   "execution_count": null,
   "metadata": {},
   "outputs": [],
   "source": [
    "# Import the pathlib and csv library\n",
    "\n",
    "from pathlib import Path \n",
    "import csv\n",
    "\n",
    "# Set the file path\n",
    "\n",
    "csvpath = Path('../PyBank/Data/budget_data.csv')\n",
    "\n",
    "# Initialize variables\n",
    "\n",
    "profits = []\n",
    "months = []\n",
    "\n",
    "# Initialize line_num variable\n",
    "\n",
    "line_num = 0\n",
    "\n",
    "# Initialize dictionary\n",
    "\n",
    "analysis = {}\n",
    "\n",
    "# Open csv file as an object\n",
    "\n",
    "with open(csvpath, \"r\") as csvfile:\n",
    "    \n",
    "    # Print datatype of file object\n",
    "    \n",
    "    print(type(csvfile))\n",
    "    \n",
    "    # Pass the csv file to the csv.reader()\n",
    "    \n",
    "    csvreader = csv.reader(csvfile, delimiter=\",\")\n",
    "    \n",
    "    # Read the header row (if any)\n",
    "    \n",
    "    csv_header = next(csvreader)\n",
    "    line_num += 1\n",
    "    \n",
    "    # Print header\n",
    "    \n",
    "    print(f\"{csv_header} <--- Header\")\n",
    "    \n",
    "    # Read each row of data after the header\n",
    "    \n",
    "    for row in csvreader:\n",
    "        \n",
    "        print(row)\n",
    "    \n",
    "    # Set variables and convert strings to ints if applicable\n",
    "        month = row[0]  #type(date) is string\n",
    "        profit = (row[1]) #type(profit) is string\n",
    "        profit = int(row[1]) # changed variable into int\n",
    "        \n",
    "    # Append month variable and profit variable to respective lists\n",
    "    \n",
    "        months.append(month)\n",
    "        profits.append(profit)\n",
    "\n",
    "# Total number of months included in the dataset\n",
    "\n",
    "total_months = (len(months))\n",
    "\n",
    "print(f\"Total Months: {total_months}\")\n",
    "\n",
    "# Net total amount of Profit/Losses over the entire period\n",
    "\n",
    "## Method (1) \n",
    "\n",
    "net_total = sum(profits)\n",
    "\n",
    "print(f\"Total: ${net_total}\")\n",
    "\n",
    "## Method (2)\n",
    "\n",
    "total_profits = 0\n",
    "\n",
    "for profit in profits:\n",
    "    total_profits += profit\n",
    "\n",
    "total = total_profits\n",
    "print(f\"Total: ${total}\")\n",
    "\n",
    "# Average of the changes in Profit/Losses over the entire period\n"
   ]
  },
  {
   "cell_type": "code",
   "execution_count": 3,
   "metadata": {},
   "outputs": [],
   "source": [
    "# Average of the changes in Profit/Losses over the entire period"
   ]
  },
  {
   "cell_type": "code",
   "execution_count": 4,
   "metadata": {},
   "outputs": [],
   "source": [
    "# Greatest increase in profits (date and amount) over the entire period"
   ]
  },
  {
   "cell_type": "code",
   "execution_count": 6,
   "metadata": {},
   "outputs": [],
   "source": [
    "# Greatest decrease in profits (date and amount) over the entire period"
   ]
  }
 ],
 "metadata": {
  "kernelspec": {
   "display_name": "Python 3",
   "language": "python",
   "name": "python3"
  },
  "language_info": {
   "codemirror_mode": {
    "name": "ipython",
    "version": 3
   },
   "file_extension": ".py",
   "mimetype": "text/x-python",
   "name": "python",
   "nbconvert_exporter": "python",
   "pygments_lexer": "ipython3",
   "version": "3.7.6"
  }
 },
 "nbformat": 4,
 "nbformat_minor": 4
}

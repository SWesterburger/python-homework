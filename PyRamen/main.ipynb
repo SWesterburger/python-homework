{
 "cells": [
  {
   "cell_type": "code",
   "execution_count": null,
   "metadata": {},
   "outputs": [],
   "source": [
    "# @TODO: Import libraries\n",
    "import csv\n",
    "from pathlib import Path"
   ]
  },
  {
   "cell_type": "code",
   "execution_count": null,
   "metadata": {},
   "outputs": [],
   "source": [
    "menu_filepath = Path('Resources/menu_data.csv')\n",
    "sales_filepath = Path('Resources/sales_data.csv')"
   ]
  },
  {
   "cell_type": "code",
   "execution_count": null,
   "metadata": {},
   "outputs": [],
   "source": [
    "# @TODO: Initialize list objects to hold our menu and sales data\n",
    "menu = []\n",
    "sales = []\n",
    "report = {}\n",
    "row_count = 0"
   ]
  },
  {
   "cell_type": "code",
   "execution_count": null,
   "metadata": {},
   "outputs": [],
   "source": [
    "# @TODO: Read in the menu data into the menu list\n",
    "\n",
    "with open(menu_filepath, 'r') as csvfile:\n",
    "\n",
    "    csv_reader = csv.reader(csvfile, delimiter=',')\n",
    "    \n",
    "    header = next(csv_reader)       # file has header\n",
    "    \n",
    "    # read each row of data after header and add to menu list\n",
    "    \n",
    "    for row in csv_reader:\n",
    "        menu.append(row)\n",
    "    "
   ]
  },
  {
   "cell_type": "code",
   "execution_count": null,
   "metadata": {},
   "outputs": [],
   "source": [
    "# check if menu list properly loaded\n",
    "\n",
    "print(menu)"
   ]
  },
  {
   "cell_type": "code",
   "execution_count": null,
   "metadata": {},
   "outputs": [],
   "source": [
    "# @TODO: Read in the sales data into the sales list\n",
    "\n",
    "with open(sales_filepath, 'r') as csvfile:\n",
    "    \n",
    "    csv_reader = csv.reader(csvfile, delimiter=',')\n",
    "    \n",
    "    header = next(csv_reader)     # file has header\n",
    "    \n",
    "    # read each row of data after header and add to sales list\n",
    "    \n",
    "    for row in csv_reader:\n",
    "    \n",
    "        sales.append(row) \n",
    "    \n"
   ]
  },
  {
   "cell_type": "code",
   "execution_count": null,
   "metadata": {},
   "outputs": [],
   "source": [
    "# check if sales list is properly loaded\n",
    "\n",
    "print(len(sales))\n",
    "print(sales[:10])"
   ]
  },
  {
   "cell_type": "code",
   "execution_count": null,
   "metadata": {},
   "outputs": [],
   "source": [
    "# @TODO: Loop over every row in the sales list object\n",
    "\n",
    "for row in sales:\n",
    "    \n",
    "     # @TODO: Initialize sales data variables\n",
    "    \n",
    "    sales_item = row[4] # datatype: string\n",
    "    # \"sales item in report\"\n",
    "    # ? but sales_item = menu_item?\n",
    "    quantity = row[3]\n",
    "    \n",
    "    # print(report) - report dictionary is empty\n",
    "\n",
    "    if sales_item not in report:\n",
    "        report[sales_item] = {\"01-count\": 0, \"02-revenue\": 0, \"03-cogs\": 0, \"04-profit\": 0}\n",
    "    else:\n",
    "        continue"
   ]
  },
  {
   "cell_type": "code",
   "execution_count": null,
   "metadata": {},
   "outputs": [],
   "source": [
    "print(report)"
   ]
  },
  {
   "cell_type": "code",
   "execution_count": null,
   "metadata": {},
   "outputs": [],
   "source": [
    "# Load in quantities from sales data\n",
    "\n",
    "for sales_row in sales:\n",
    "    \n",
    "    sales_item = sales_row[4]\n",
    "    quantity = sales_row[3]\n",
    "\n",
    "    if sales_item in report:\n",
    "        report[sales_item][\"01-count\"] += int(quantity)\n",
    "  "
   ]
  },
  {
   "cell_type": "code",
   "execution_count": null,
   "metadata": {},
   "outputs": [],
   "source": [
    "print(report)   #quantities are loaded in"
   ]
  },
  {
   "cell_type": "code",
   "execution_count": null,
   "metadata": {},
   "outputs": [],
   "source": [
    "# Load in price and cost form menu for items that are in both lists"
   ]
  },
  {
   "cell_type": "code",
   "execution_count": null,
   "metadata": {},
   "outputs": [],
   "source": [
    "for row in sales:\n",
    "    \n",
    "    quantity = row[3]\n",
    "    sales_item = row[4]\n",
    "    \n",
    "    for row in menu:\n",
    "        # menu data variables\n",
    "        Item = row[0]   #string\n",
    "        Price = row[3]  #string\n",
    "        Cost = row[4] #string\n",
    "        \n",
    "        if sales_item == Item:\n",
    "            report[sales_item][\"01-count\"] += int(quantity)\n",
    "            report[sales_item][\"02-revenue\"] += (int(Price) * int(quantity))\n",
    "            report[sales_item][\"03-cogs\"] += (int(Cost * int(quantity))\n",
    "            \n",
    "        elif:\n",
    "            print(f\"{sales_item} does not equal {item}! NO MATCH!\")  \n",
    "                                   "
   ]
  },
  {
   "cell_type": "code",
   "execution_count": null,
   "metadata": {},
   "outputs": [],
   "source": [
    "print(report)"
   ]
  }
 ],
 "metadata": {
  "kernelspec": {
   "display_name": "Python 3",
   "language": "python",
   "name": "python3"
  },
  "language_info": {
   "codemirror_mode": {
    "name": "ipython",
    "version": 3
   },
   "file_extension": ".py",
   "mimetype": "text/x-python",
   "name": "python",
   "nbconvert_exporter": "python",
   "pygments_lexer": "ipython3",
   "version": "3.7.6"
  }
 },
 "nbformat": 4,
 "nbformat_minor": 4
}

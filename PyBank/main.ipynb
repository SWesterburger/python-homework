{
 "cells": [
  {
   "cell_type": "code",
   "execution_count": null,
   "metadata": {},
   "outputs": [],
   "source": [
    "## Initial steps to start/ things to consider ##\n",
    "\n",
    "# Import the pathlib and csv library\n",
    "\n",
    "from pathlib import Path \n",
    "import csv\n",
    "\n",
    "# Set the file path\n",
    "\n",
    "csvpath = Path('../PyBank/Data/budget_data.csv')\n",
    "\n",
    "# Initialize variables\n",
    "\n",
    "profits = []\n",
    "\n",
    "# Initialize line_num variable\n",
    "\n",
    "line_num = 0\n",
    "\n",
    "# Initialize dictionary\n",
    "\n",
    "analysis = {}\n",
    "\n",
    "# Open csv file as an object\n",
    "\n",
    "with open(csvpath, \"r\") as csvfile:\n",
    "    \n",
    "    # Print datatype of file object\n",
    "    \n",
    "    print(type(csvfile))\n",
    "    \n",
    "    # Pass the csv file to the csv.reader()\n",
    "    \n",
    "    csvreader = csv.reader(csvfile, delimiter=\",\")\n",
    "    \n",
    "    # Read the header row (if any)\n",
    "    \n",
    "    csv_header = next(csvreader)\n",
    "    line_num +- 1\n",
    "    \n",
    "    # Print header\n",
    "    \n",
    "    print(f\"{csv_header} <--- Header\")\n",
    "    \n",
    "    # Read each row of data after the header\n",
    "    \n",
    "    for row in csvreader:\n",
    "        \n",
    "        print(row)\n",
    "    \n",
    "    # Set variables and convert strings to ints if applicable\n",
    "        \n",
    "        date = (row[0])  #type(date) is string\n",
    "        profit = (row[1]) #type(profit) is string\n",
    "        profit = int(row[1]) # changed variable into int\n",
    "      "
   ]
  },
  {
   "cell_type": "code",
   "execution_count": 1,
   "metadata": {},
   "outputs": [],
   "source": [
    "# Total number of months included in the dataset"
   ]
  },
  {
   "cell_type": "code",
   "execution_count": 2,
   "metadata": {},
   "outputs": [],
   "source": [
    "# Net total amount of Profit/Losses over the entire period"
   ]
  },
  {
   "cell_type": "code",
   "execution_count": 3,
   "metadata": {},
   "outputs": [],
   "source": [
    "# Average of the changes in Profit/Losses over the entire period"
   ]
  },
  {
   "cell_type": "code",
   "execution_count": 4,
   "metadata": {},
   "outputs": [],
   "source": [
    "# Greatest increase in profits (date and amount) over the entire period"
   ]
  },
  {
   "cell_type": "code",
   "execution_count": 6,
   "metadata": {},
   "outputs": [],
   "source": [
    "# Greatest decrease in profits (date and amount) over the entire period"
   ]
  }
 ],
 "metadata": {
  "kernelspec": {
   "display_name": "Python 3",
   "language": "python",
   "name": "python3"
  },
  "language_info": {
   "codemirror_mode": {
    "name": "ipython",
    "version": 3
   },
   "file_extension": ".py",
   "mimetype": "text/x-python",
   "name": "python",
   "nbconvert_exporter": "python",
   "pygments_lexer": "ipython3",
   "version": "3.7.6"
  }
 },
 "nbformat": 4,
 "nbformat_minor": 4
}

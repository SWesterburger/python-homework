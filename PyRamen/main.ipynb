{
 "cells": [
  {
   "cell_type": "code",
   "execution_count": 29,
   "metadata": {},
   "outputs": [],
   "source": [
    "# @TODO: Import libraries\n",
    "import csv\n",
    "from pathlib import Path"
   ]
  },
  {
   "cell_type": "code",
   "execution_count": 30,
   "metadata": {},
   "outputs": [],
   "source": [
    "menu_filepath = Path('Resources/menu_data.csv')\n",
    "sales_filepath = Path('Resources/sales_data.csv')"
   ]
  },
  {
   "cell_type": "code",
   "execution_count": 31,
   "metadata": {},
   "outputs": [],
   "source": [
    "# @TODO: Initialize list objects to hold our menu and sales data\n",
    "menu = []\n",
    "sales = []"
   ]
  },
  {
   "cell_type": "code",
   "execution_count": 33,
   "metadata": {},
   "outputs": [],
   "source": [
    "# @TODO: Read in the menu data into the menu list\n",
    "\n",
    "line_num = 0\n",
    "\n",
    "with open(menu_filepath, 'r') as menufile:\n",
    "\n",
    "    csvreader = csv.reader(menufile, delimiter=',')\n",
    "    \n",
    "    header = next(csvreader)       # file has header\n",
    "    line_num += 1\n",
    "    \n",
    "    # read each row of data after header and add to menu list\n",
    "    \n",
    "    for row in menufile:\n",
    "    \n",
    "        menu.append(row)\n",
    "    "
   ]
  },
  {
   "cell_type": "code",
   "execution_count": null,
   "metadata": {},
   "outputs": [],
   "source": [
    "print(menu)"
   ]
  },
  {
   "cell_type": "code",
   "execution_count": 37,
   "metadata": {},
   "outputs": [],
   "source": [
    "# @TODO: Read in the sales data into the sales list\n",
    "\n",
    "line_num = 0\n",
    "\n",
    "with open(sales_filepath, 'r') as salesfile:\n",
    "    \n",
    "    csvreader = csv.reader(salesfile, delimiter=',')\n",
    "    \n",
    "    header = next(csvreader)     # file has header\n",
    "    line_num += 1\n",
    "    \n",
    "    # read each row of data after header and add to sales list\n",
    "    \n",
    "    for row in salesfile:\n",
    "    \n",
    "        sales.append(row) \n",
    "    \n"
   ]
  },
  {
   "cell_type": "code",
   "execution_count": null,
   "metadata": {},
   "outputs": [],
   "source": []
  }
 ],
 "metadata": {
  "kernelspec": {
   "display_name": "Python 3",
   "language": "python",
   "name": "python3"
  },
  "language_info": {
   "codemirror_mode": {
    "name": "ipython",
    "version": 3
   },
   "file_extension": ".py",
   "mimetype": "text/x-python",
   "name": "python",
   "nbconvert_exporter": "python",
   "pygments_lexer": "ipython3",
   "version": "3.7.6"
  }
 },
 "nbformat": 4,
 "nbformat_minor": 4
}
